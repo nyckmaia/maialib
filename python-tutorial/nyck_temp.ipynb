{
 "cells": [
  {
   "cell_type": "code",
   "execution_count": null,
   "metadata": {},
   "outputs": [],
   "source": [
    "from maialib import *"
   ]
  },
  {
   "cell_type": "code",
   "execution_count": null,
   "metadata": {},
   "outputs": [],
   "source": [
    "#myScore = Score(\"../tests/xml_examples/unit_test/test_getchords_poly.musicxml\")\n",
    "#myScore = Score(\"../tests/xml_examples/Beethoven/Symphony_9th.xml\")\n",
    "\n",
    "#myScore = Score(\"C:/Users/nyck/Downloads/Bach_chorales/Greentree/000106B_.xml\")\n",
    "#myScore = Score(\"C:/Users/nyck/Downloads/Bach_chorales/Greentree/001405B_.xml\")\n",
    "myScore = Score(\"C:/Users/nyck/Downloads/Bach_chorales/Greentree/043800B_.xml\")\n",
    "\n",
    "\n",
    "\n",
    "\n",
    "#myScore = Score(\"../tests/xml_examples/unit_test/test_multiple_instruments4.musicxml\")\n",
    "#myScore = Score(\"../tests/xml_examples/unit_test/test_musical_scale.xml\")"
   ]
  },
  {
   "cell_type": "code",
   "execution_count": null,
   "metadata": {},
   "outputs": [],
   "source": [
    "myChords = myScore.getChords()\n"
   ]
  },
  {
   "cell_type": "code",
   "execution_count": null,
   "metadata": {},
   "outputs": [],
   "source": [
    "len(myChords)"
   ]
  },
  {
   "cell_type": "code",
   "execution_count": null,
   "metadata": {},
   "outputs": [],
   "source": [
    "myChords[\"Duration\"] = myChords[\"Chord\"].map(lambda chord: chord.getDuration())\n",
    "myChords\n"
   ]
  }
 ],
 "metadata": {
  "kernelspec": {
   "display_name": "Python 3",
   "language": "python",
   "name": "python3"
  },
  "language_info": {
   "codemirror_mode": {
    "name": "ipython",
    "version": 3
   },
   "file_extension": ".py",
   "mimetype": "text/x-python",
   "name": "python",
   "nbconvert_exporter": "python",
   "pygments_lexer": "ipython3",
   "version": "3.9.7"
  }
 },
 "nbformat": 4,
 "nbformat_minor": 4
}
