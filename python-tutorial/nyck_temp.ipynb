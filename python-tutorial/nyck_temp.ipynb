{
 "cells": [
  {
   "cell_type": "code",
   "execution_count": null,
   "metadata": {},
   "outputs": [],
   "source": [
    "from maialib import *"
   ]
  },
  {
   "cell_type": "code",
   "execution_count": null,
   "metadata": {},
   "outputs": [],
   "source": [
    "#myScore = Score(\"../tests/xml_examples/unit_test/test_getchords_poly.musicxml\")\n",
    "#myScore = Score(\"../tests/xml_examples/Beethoven/Symphony_9th.xml\")\n",
    "\n",
    "#myScore = Score(\"C:/Users/nyck/Downloads/Bach_chorales/Greentree/000106B_.xml\")\n",
    "#myScore = Score(\"C:/Users/nyck/Downloads/Bach_chorales/Greentree/001405B_.xml\")\n",
    "myScore = Score(\"C:/Users/nyck/Downloads/Bach_chorales/Greentree/043800B_.xml\")\n",
    "\n",
    "#myScore = Score(\"../tests/xml_examples/unit_test/test_multiple_instruments4.musicxml\")\n",
    "#myScore = Score(\"../tests/xml_examples/unit_test/test_musical_scale.xml\")"
   ]
  },
  {
   "cell_type": "code",
   "execution_count": null,
   "metadata": {},
   "outputs": [],
   "source": [
    "# .getDuration() alias to the original method called Note::getQuarterDuration()\n",
    "x = Note(\"A4\")\n",
    "x.getDuration()"
   ]
  },
  {
   "cell_type": "code",
   "execution_count": null,
   "metadata": {},
   "outputs": [],
   "source": [
    "# New Note constructor API using \"Duration\" enum class\n",
    "x = Note(\"A4\", Duration.EIGHTH)\n",
    "x.getDuration()"
   ]
  },
  {
   "cell_type": "code",
   "execution_count": null,
   "metadata": {},
   "outputs": [],
   "source": [
    "# New Helper method\n",
    "Helper.midiNote2pitches(60)"
   ]
  },
  {
   "cell_type": "code",
   "execution_count": null,
   "metadata": {},
   "outputs": [],
   "source": [
    "# New Score method\n",
    "myScore.setRepeat(2) # from measure 2 until the end\n",
    "myScore.setRepeat(2, 5) # from measure 2 until measure 5"
   ]
  },
  {
   "cell_type": "code",
   "execution_count": null,
   "metadata": {},
   "outputs": [],
   "source": [
    "# New Chord::getIntervals method\n",
    "c = Chord([\"C4\", \"E3\", \"G4\"])\n",
    "c.getIntervals()"
   ]
  },
  {
   "cell_type": "code",
   "execution_count": null,
   "metadata": {},
   "outputs": [],
   "source": [
    "# You can also set 'fromRoot' optional argument as 'True'\n",
    "c.getIntervals(True)"
   ]
  },
  {
   "cell_type": "code",
   "execution_count": null,
   "metadata": {},
   "outputs": [],
   "source": [
    "# New Chord::getStackIntervals method\n",
    "c.getStackIntervals()"
   ]
  },
  {
   "cell_type": "code",
   "execution_count": null,
   "metadata": {},
   "outputs": [],
   "source": [
    "# You can also set 'fromRoot' optional argument as 'True'\n",
    "c.getStackIntervals(True)"
   ]
  },
  {
   "cell_type": "code",
   "execution_count": null,
   "metadata": {},
   "outputs": [],
   "source": [
    "# Now this method below sends an error if the users try to do something impossible\n",
    "Helper.midiNote2pitch(60, \"x\")"
   ]
  }
 ],
 "metadata": {
  "kernelspec": {
   "display_name": "Python 3",
   "language": "python",
   "name": "python3"
  },
  "language_info": {
   "codemirror_mode": {
    "name": "ipython",
    "version": 3
   },
   "file_extension": ".py",
   "mimetype": "text/x-python",
   "name": "python",
   "nbconvert_exporter": "python",
   "pygments_lexer": "ipython3",
   "version": "3.9.7"
  }
 },
 "nbformat": 4,
 "nbformat_minor": 4
}
