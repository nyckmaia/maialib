{
 "cells": [
  {
   "cell_type": "code",
   "execution_count": null,
   "metadata": {},
   "outputs": [],
   "source": [
    "from maialib import *"
   ]
  },
  {
   "cell_type": "code",
   "execution_count": null,
   "metadata": {},
   "outputs": [],
   "source": [
    "#myScore = Score(\"../xml_examples/unit_test/test_chord.xml\")\n",
    "myScore = Score(\"../tests/xml_examples/unit_test/test_multiple_instruments3.musicxml\")\n",
    "#myScore = Score(\"../tests/xml_examples/unit_test/test_musical_scale.xml\")"
   ]
  },
  {
   "cell_type": "code",
   "execution_count": null,
   "metadata": {},
   "outputs": [],
   "source": [
    "myScore.info()"
   ]
  },
  {
   "cell_type": "code",
   "execution_count": null,
   "metadata": {},
   "outputs": [],
   "source": [
    "for p in range(myScore.getNumParts()): # For each part 'p'\n",
    "    currentPart = myScore.getPart(p)\n",
    "        \n",
    "    for m in range(currentPart.getNumMeasures()): # for each measure 'm'\n",
    "        currentMeasure = currentPart.getMeasure(m)\n",
    "        \n",
    "        for s in range(currentMeasure.getNumStaves()): # for each stave 's'\n",
    "            staveNumNotes = currentMeasure.getNumNotes(s)\n",
    "            \n",
    "            for n in range(staveNumNotes): # for each note 'n'\n",
    "                currentNote = currentMeasure.getNote(n, s)\n",
    "                print(f\"Part({p}) - Measure({m}) - Stave({s}) - Note({n}) = {currentNote}\")"
   ]
  }
 ],
 "metadata": {
  "kernelspec": {
   "display_name": "Python 3",
   "language": "python",
   "name": "python3"
  },
  "language_info": {
   "codemirror_mode": {
    "name": "ipython",
    "version": 3
   },
   "file_extension": ".py",
   "mimetype": "text/x-python",
   "name": "python",
   "nbconvert_exporter": "python",
   "pygments_lexer": "ipython3",
   "version": "3.9.7"
  }
 },
 "nbformat": 4,
 "nbformat_minor": 4
}
