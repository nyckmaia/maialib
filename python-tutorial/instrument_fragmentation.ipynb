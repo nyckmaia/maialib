{
 "cells": [
  {
   "cell_type": "markdown",
   "metadata": {},
   "source": [
    "# Instrument Fragmentation"
   ]
  },
  {
   "cell_type": "code",
   "execution_count": null,
   "metadata": {},
   "outputs": [],
   "source": [
    "from maialib import *"
   ]
  },
  {
   "cell_type": "code",
   "execution_count": null,
   "metadata": {},
   "outputs": [],
   "source": [
    "score = Score('../tests/xml_examples/unit_test_adolfo/test_frag3.xml')"
   ]
  },
  {
   "cell_type": "code",
   "execution_count": null,
   "metadata": {},
   "outputs": [],
   "source": [
    "score.getMeasures()"
   ]
  },
  {
   "cell_type": "code",
   "execution_count": null,
   "metadata": {},
   "outputs": [],
   "source": [
    "config = {\n",
    "    \"partNumber\": [0, 1, 2],\n",
    "    \"measureStart\": 1,\n",
    "    \"measureEnd\": 5\n",
    "}    \n",
    "x = score.instrumentFragmentation(config)"
   ]
  },
  {
   "cell_type": "code",
   "execution_count": null,
   "metadata": {},
   "outputs": [],
   "source": [
    "import pylab as pl\n",
    "import numpy as np\n",
    "import matplotlib.pyplot as plt\n",
    "from matplotlib import collections as mc\n",
    "from matplotlib.ticker import (MultipleLocator, FormatStrFormatter,\n",
    "                               AutoMinorLocator)\n",
    "\n",
    "#-------Control of Plotting---------\n",
    "\n",
    "fig, ax = plt.subplots()\n",
    "\n",
    "colors = pl.cm.jet(np.linspace(0,1,len(x[\"element\"])))\n",
    "\n",
    "## Below we use the 0-instrument index to configure basic parameters to plot figure\n",
    "##----------------Data Entries-----------------\n",
    "beat_number = x[\"element\"][0][\"beatNumber\"] # Number of beats per measure \n",
    "beat_type = x[\"element\"][0][\"beatType\"]  # Type of beats \n",
    "dur_beat_type = 4/beat_type  # duration of note in terms of quarter note \n",
    "dur_measure_beats = beat_number*dur_beat_type # Duration of a measure in terms of quarter note\n",
    "measure_start_beats = x[\"element\"][0][\"lines\"][0][0][0]\n",
    "#measure_end_beats = (measure_end)*(dur_measure_beats)\n",
    "measure_end_beats = x[\"element\"][0][\"lines\"][len(x[\"element\"][0][\"lines\"]) -1][1][0]  # Number of Final Bar in beats\n",
    "\n",
    "# Make a plot with major ticks that are multiples of \"dur_measure_beats\" and minor ticks that\n",
    "# are multiples of \"dur_beat_type\".  \n",
    "#Label major ticks with '%d' formatting but don't label minor ticks.\n",
    "# major ticks = measures ; minor ticks = beats\n",
    "\n",
    "ax.xaxis.set_major_locator(MultipleLocator(dur_measure_beats)) # Each major tick is a measure\n",
    "\n",
    "# For the minor ticks, use no labels; default NullFormatter.\n",
    "ax.xaxis.set_minor_locator(MultipleLocator(dur_beat_type))  # This means number of beats per measure\n",
    "\n",
    "ax.tick_params(which='major', width=6, color ='c') # Thick of major ticks (measures)\n",
    "ax.tick_params(which='minor', width=3) # Thick of minor ticks (beat)\n",
    "\n",
    "plt.xlim(measure_start_beats,measure_end_beats) # Initial Measure in Number of beats; Final Measure in Beats \n",
    "#plt.xlim(x[\"measureStart\"],x[\"measureEnd\"])\n",
    "\n",
    "plt.xlabel('Measures/Beats') # Label of x-axis\n",
    "plt.ylabel('Activation')  # Label of y-axis\n",
    "plt.gca().xaxis.grid(True) # this makes e vertical grid (to see the measures)\n",
    "fig.set_size_inches(12,7)  # Size of the figure \n",
    "    \n",
    "\n",
    "for i in range(len(x[\"element\"])):     \n",
    "    lc1 = mc.LineCollection(x[\"element\"][i][\"lines\"], color = colors[i],linewidths=5, label = x[\"element\"][i][\"partName\"])\n",
    "    lc2 = mc.LineCollection(x[\"element\"][i][\"lines_rests\"], color = colors[i],linewidths=1, linestyle=':')\n",
    "    ax.add_collection(lc1)  \n",
    "    ax.add_collection(lc2)\n",
    "#     ax.add_collection(lc1, autolim=True)\n",
    "#     ax.add_collection(lc2, autolim=True)\n",
    "#     ax.autoscale_view()\n",
    "plt.ylim([0, len(x[\"element\"])+1])  \n",
    "    \n",
    "if x[\"element\"][0][\"work\"] == None :\n",
    "    work = \"No Title \"\n",
    "else:\n",
    "    work = x[\"element\"][0][\"work\"]\n",
    "    \n",
    "if x[\"element\"][0][\"author\"] == None :\n",
    "    author = \"Unknown Author \"\n",
    "else:\n",
    "    author = x[\"element\"][0][\"author\"]    \n",
    "    \n",
    "#plt.autoscale(axis='y')\n",
    "\n",
    "    \n",
    "plt.title(author + \":  \" + work + \" --> \" \"Instrument Activation:  Measures\" + ' ' +str(x[\"element\"][0][\"measureStart\"]) + ' to '+str(x[\"element\"][0][\"measureEnd\"]), weight='bold', color='black')\n",
    "\n",
    "# Place a Legend out the Plot box\n",
    "ax.legend(bbox_to_anchor=(1.05, 0.95), loc=3, borderaxespad=0., labelspacing=-4.0)  # Location and size of Box Legend\n",
    "\n",
    "# plt.yticks([], []) # Remove ticks from the y-axis\n",
    "\n",
    "# Save figure in the \"maia\" project folder /maia/maialib/tutorial\n",
    "save_plot_folder = '/Users/adolfo/Desktop/Qt-C++/maia/maialib/'\n",
    "plt.savefig(save_plot_folder + 'test1.png', format = \"png\", dpi = 150, bbox_inches = \"tight\") \n",
    "\n",
    "plt.show()\n",
    "\n",
    "#--------End of Plotting"
   ]
  },
  {
   "cell_type": "code",
   "execution_count": null,
   "metadata": {},
   "outputs": [],
   "source": [
    "x[\"element\"]"
   ]
  }
 ],
 "metadata": {
  "kernelspec": {
   "display_name": "Python 3",
   "language": "python",
   "name": "python3"
  },
  "language_info": {
   "codemirror_mode": {
    "name": "ipython",
    "version": 3
   },
   "file_extension": ".py",
   "mimetype": "text/x-python",
   "name": "python",
   "nbconvert_exporter": "python",
   "pygments_lexer": "ipython3",
   "version": "3.8.5"
  }
 },
 "nbformat": 4,
 "nbformat_minor": 4
}
