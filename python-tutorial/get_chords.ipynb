{
 "cells": [
  {
   "cell_type": "markdown",
   "metadata": {},
   "source": [
    "# Get  chords from a MusicXML file"
   ]
  },
  {
   "cell_type": "markdown",
   "metadata": {},
   "source": [
    "As always, we need to import the maialib module"
   ]
  },
  {
   "cell_type": "code",
   "execution_count": 1,
   "metadata": {},
   "outputs": [],
   "source": [
    "import maialib as ml"
   ]
  },
  {
   "cell_type": "markdown",
   "metadata": {},
   "source": [
    "Load a MusicXML file passing a absolute or relative path:"
   ]
  },
  {
   "cell_type": "code",
   "execution_count": 2,
   "metadata": {},
   "outputs": [
    {
     "name": "stdout",
     "output_type": "stream",
     "text": [
      "[WARN] [XML MISSING TAG][Flute][0] The key signature mode is empty. Auto-configing to 'major' mode\n",
      "[WARN] [XML MISSING TAG][B♭ Clarinet][0] The key signature mode is empty. Auto-configing to 'major' mode\n",
      "[WARN] [XML MISSING TAG][Bassoon][0] The key signature mode is empty. Auto-configing to 'major' mode\n",
      "[WARN] [XML MISSING TAG][Violoncello][0] The key signature mode is empty. Auto-configing to 'major' mode\n"
     ]
    }
   ],
   "source": [
    "score = ml.Score('../test/xml_examples/unit_test/test_getChords.xml')"
   ]
  },
  {
   "cell_type": "markdown",
   "metadata": {},
   "source": [
    "You can configure some options to get only the chords that you desired using:"
   ]
  },
  {
   "cell_type": "code",
   "execution_count": 3,
   "metadata": {},
   "outputs": [],
   "source": [
    "myChords = score.getChords()"
   ]
  },
  {
   "cell_type": "markdown",
   "metadata": {},
   "source": [
    "So now we have a set of chords inside the variable called `myChords`"
   ]
  },
  {
   "cell_type": "code",
   "execution_count": 4,
   "metadata": {},
   "outputs": [
    {
     "name": "stdout",
     "output_type": "stream",
     "text": [
      "Number chords:  5\n"
     ]
    }
   ],
   "source": [
    "print(\"Number chords: \", len(myChords)) "
   ]
  },
  {
   "cell_type": "markdown",
   "metadata": {},
   "source": [
    "## Using the output chords"
   ]
  },
  {
   "cell_type": "markdown",
   "metadata": {},
   "source": [
    "You can manipulate each chord using the chord 'index'."
   ]
  },
  {
   "cell_type": "code",
   "execution_count": 8,
   "metadata": {},
   "outputs": [
    {
     "name": "stdout",
     "output_type": "stream",
     "text": [
      "measureId=1, floatMeasure=1.0, key=<Key C>, chord=<Chord [C3, G3, C5, E5]>, isHomophonic=True\n"
     ]
    }
   ],
   "source": [
    "measureId, floatMeasure, key, chord, isHomophonic = myChords[0]\n",
    "print(f\"measureId={measureId}, floatMeasure={floatMeasure}, key={key}, chord={chord}, isHomophonic={isHomophonic}\")"
   ]
  },
  {
   "cell_type": "markdown",
   "metadata": {},
   "source": [
    "## Get chord names"
   ]
  },
  {
   "cell_type": "markdown",
   "metadata": {},
   "source": [
    "All chords have a list of methods that you can use to manipulate and visualize chord data\n",
    "\n",
    "Example: to get the chord name, you can call the method called: `getName()`\n",
    "\n",
    "In this example below we show how to print all chords that are inside `myChords` variable"
   ]
  },
  {
   "cell_type": "code",
   "execution_count": null,
   "metadata": {},
   "outputs": [
    {
     "name": "stdout",
     "output_type": "stream",
     "text": [
      "[WARN] Unable to get a tonal name of a non-tonal chord\n",
      "[WARN] Unable to get a tonal name of a non-tonal chord\n",
      "[WARN] Unable to get a tonal name of a non-tonal chord\n",
      "[WARN] Unable to get a tonal name of a non-tonal chord\n",
      "[WARN] Unable to get a tonal name of a non-tonal chord\n"
     ]
    }
   ],
   "source": [
    "for chordDetails in myChords:          # for each chord\n",
    "    measureId, floatMeasure, key, chord = chordDetails\n",
    "    chordName = chord.getName() # get the chord name\n",
    "    if chordName != \"\":         # if chord name is not empty\n",
    "        print(chordName)        # print chord name"
   ]
  }
 ],
 "metadata": {
  "kernelspec": {
   "display_name": "Python 3",
   "language": "python",
   "name": "python3"
  },
  "language_info": {
   "codemirror_mode": {
    "name": "ipython",
    "version": 3
   },
   "file_extension": ".py",
   "mimetype": "text/x-python",
   "name": "python",
   "nbconvert_exporter": "python",
   "pygments_lexer": "ipython3",
   "version": "3.12.5"
  }
 },
 "nbformat": 4,
 "nbformat_minor": 4
}
