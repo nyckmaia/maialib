{
 "cells": [
  {
   "cell_type": "code",
   "execution_count": null,
   "metadata": {},
   "outputs": [],
   "source": [
    "from maialib import *"
   ]
  },
  {
   "cell_type": "markdown",
   "metadata": {},
   "source": [
    "First, import the desired music score:"
   ]
  },
  {
   "cell_type": "code",
   "execution_count": null,
   "metadata": {},
   "outputs": [],
   "source": [
    "myScore = Score(\"../tests/xml_examples/unit_test/test_multiple_instruments4.musicxml\")"
   ]
  },
  {
   "cell_type": "markdown",
   "metadata": {},
   "source": [
    "Now you can parse the maialib `Score` object to a `Pandas DataFrame` using:"
   ]
  },
  {
   "cell_type": "code",
   "execution_count": null,
   "metadata": {},
   "outputs": [],
   "source": [
    "df = myScore.toDataFrame()\n",
    "df"
   ]
  },
  {
   "cell_type": "markdown",
   "metadata": {},
   "source": [
    "## 2 - Filtering the DataFrame\n",
    "\n",
    "Unlike a usual DataFrame object, the output DataFrame of the `Score::toDataFrame()` method is not composed of primary types (like `numbers` and `strings`), but of `maialib` objects.\n",
    "They are: `Part Object`, `Measure Object` and `Note Object`.\n",
    "\n",
    "For this reason, the filter methods of this DataFrame type need to be done via a `lambda` function."
   ]
  },
  {
   "cell_type": "markdown",
   "metadata": {},
   "source": [
    "### 2.1 - Filtering from a object property\n",
    "\n",
    "This example below shows how to filter only the notes inside the `Piano` part"
   ]
  },
  {
   "cell_type": "code",
   "execution_count": null,
   "metadata": {},
   "outputs": [],
   "source": [
    "df[df[\"Part\"].map(lambda part: part.getName() == \"Piano\")]"
   ]
  },
  {
   "cell_type": "markdown",
   "metadata": {},
   "source": [
    "### 2.2 - Filtering from a object property (2 possibilities)\n",
    "\n",
    "This example below shows how to filter the notes inside the `Piano` and `Soprano` parts"
   ]
  },
  {
   "cell_type": "code",
   "execution_count": null,
   "metadata": {},
   "outputs": [],
   "source": [
    "df[df[\"Part\"].map(lambda part: part.getName() in [\"Piano\", \"Soprano\"])]"
   ]
  },
  {
   "cell_type": "markdown",
   "metadata": {},
   "source": [
    "### 2.3 - Filtering with multiple conditions\n",
    "\n",
    "This example below shows how to filter the notes inside the `Soprano` with `G5` pitch"
   ]
  },
  {
   "cell_type": "code",
   "execution_count": null,
   "metadata": {},
   "outputs": [],
   "source": [
    "df[\n",
    "    df[\"Note\"].map(lambda note: note.getPitch() == \"G5\") &\n",
    "    df[\"Part\"].map(lambda part: part.getName() == \"Soprano\")\n",
    "]"
   ]
  }
 ],
 "metadata": {
  "kernelspec": {
   "display_name": "Python 3",
   "language": "python",
   "name": "python3"
  },
  "language_info": {
   "codemirror_mode": {
    "name": "ipython",
    "version": 3
   },
   "file_extension": ".py",
   "mimetype": "text/x-python",
   "name": "python",
   "nbconvert_exporter": "python",
   "pygments_lexer": "ipython3",
   "version": "3.9.7"
  }
 },
 "nbformat": 4,
 "nbformat_minor": 4
}
