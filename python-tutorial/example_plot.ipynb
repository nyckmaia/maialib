{
 "cells": [
  {
   "cell_type": "code",
   "execution_count": 1,
   "metadata": {},
   "outputs": [
    {
     "data": {
      "image/png": "[encoded data removed]",
      "text/plain": [
       "<Figure size 432x288 with 1 Axes>"
      ]
     },
     "metadata": {
      "needs_background": "light"
     },
     "output_type": "display_data"
    }
   ],
   "source": [
    "import numpy as np\n",
    "import pylab as pl\n",
    "from matplotlib import collections as mc\n",
    "\n",
    "# ===== FROM C++ ===== #\n",
    "# Problem: From C++, return a JSON array that contains N objects (instruments)\n",
    "# Each object MUST have 3 fields: partName, lines, color\n",
    "# partName: std::string\n",
    "# lines: std::vector< std::vector <std::tuple<float, float> > >\n",
    "# color: std::tuple <float, float, float, float>\n",
    "\n",
    "cpp = [\n",
    "    {\n",
    "        \"partName\": \"Picollo\",\n",
    "        \"lines\": [[(0, 1), (0.1, 1)], [(0.3, 1), (0.4, 1)], [(0.6, 1), (0.8, 1)]],\n",
    "        \"color\": (1, 0, 0, 1) # Tuple: RGBA = RGB + Intensity (Alpha)\n",
    "    },\n",
    "    {\n",
    "        \"partName\": \"Cello\",\n",
    "        \"lines\": [[(0, 2), (0.1, 2)], [(0.3, 2), (0.4, 2)]],\n",
    "        \"color\": (0, 0, 1, 1)\n",
    "    }\n",
    "]\n",
    "\n",
    "lc1 = mc.LineCollection(cpp[0][\"lines\"], colors=cpp[0][\"color\"], linewidths=4)\n",
    "lc2 = mc.LineCollection(cpp[1][\"lines\"], colors=cpp[1][\"color\"], linewidths=4)\n",
    "\n",
    "fig, ax = pl.subplots()\n",
    "ax.add_collection(lc1)\n",
    "ax.add_collection(lc2)\n",
    "ax.autoscale()\n",
    "ax.margins(0.1)"
   ]
  },
  {
   "cell_type": "code",
   "execution_count": null,
   "metadata": {},
   "outputs": [],
   "source": []
  }
 ],
 "metadata": {
  "kernelspec": {
   "display_name": "Python 3",
   "language": "python",
   "name": "python3"
  },
  "language_info": {
   "codemirror_mode": {
    "name": "ipython",
    "version": 3
   },
   "file_extension": ".py",
   "mimetype": "text/x-python",
   "name": "python",
   "nbconvert_exporter": "python",
   "pygments_lexer": "ipython3",
   "version": "3.8.5"
  }
 },
 "nbformat": 4,
 "nbformat_minor": 4
}
