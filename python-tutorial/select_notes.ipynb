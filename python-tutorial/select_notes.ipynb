{
 "cells": [
  {
   "cell_type": "markdown",
   "metadata": {},
   "source": [
    "# Select Notes"
   ]
  },
  {
   "cell_type": "code",
   "execution_count": null,
   "metadata": {},
   "outputs": [],
   "source": [
    "from maialib import *\n",
    "\n",
    "# ===== IMPORT OTHER LIBRARIES ===== #\n",
    "import pandas as pd # To display/manipulate tables "
   ]
  },
  {
   "cell_type": "code",
   "execution_count": null,
   "metadata": {},
   "outputs": [],
   "source": [
    "score = Score('../tests/xml_examples/Beethoven/Symphony_9th.xml')"
   ]
  },
  {
   "cell_type": "code",
   "execution_count": null,
   "metadata": {},
   "outputs": [],
   "source": [
    "# SELECT AND DISPLAY NOTES IN A 'PANDAS' TABLE\n",
    "config = {\n",
    "    \"parts\": \"Violini I\",\n",
    "    \"measures\": [1, 2]\n",
    "}\n",
    "\n",
    "selectedNotes = score.selectNotes(config)\n",
    "selectedTable = pd.DataFrame(selectedNotes, columns=[\"partName\", \"measure\", \"pitch\", \"octave\", \"type\"])\n",
    "selectedTable"
   ]
  }
 ],
 "metadata": {
  "kernelspec": {
   "display_name": "Python 3",
   "language": "python",
   "name": "python3"
  },
  "language_info": {
   "codemirror_mode": {
    "name": "ipython",
    "version": 3
   },
   "file_extension": ".py",
   "mimetype": "text/x-python",
   "name": "python",
   "nbconvert_exporter": "python",
   "pygments_lexer": "ipython3",
   "version": "3.9.7"
  }
 },
 "nbformat": 4,
 "nbformat_minor": 4
}
