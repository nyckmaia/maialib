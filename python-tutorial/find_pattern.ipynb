{
 "cells": [
  {
   "cell_type": "markdown",
   "metadata": {},
   "source": [
    "# Find Pattern"
   ]
  },
  {
   "cell_type": "code",
   "execution_count": null,
   "metadata": {},
   "outputs": [],
   "source": [
    "from maialib import *\n",
    "\n",
    "# ===== IMPORT OTHER MODULES ===== #\n",
    "import pandas as pd # To display/manipulate tables \n",
    "import matplotlib.pyplot as plt # To plot charts"
   ]
  },
  {
   "cell_type": "code",
   "execution_count": null,
   "metadata": {},
   "outputs": [],
   "source": [
    "score = Score('../tests/xml_examples/unit_test_adolfo/test_frag2.xml')"
   ]
  },
  {
   "cell_type": "code",
   "execution_count": null,
   "metadata": {},
   "outputs": [],
   "source": [
    "pattern = {\n",
    "    \"parts\": \"all\",\n",
    "    \"measures\": \"all\",\n",
    "    \"relativePitch\": True,\n",
    "    \"relativeRhythm\": False,\n",
    "     \"notes\": [\n",
    "        {\"pitchClass\": \"X\", \"octave\": 4, \"type\": \"eighth\", \"isChord\": False, \"enharmonic\": False}, \n",
    "        {\"pitchClass\": \"rest\",\"type\": \"eighth\", \"isChord\": False, \"enharmonic\": False},\n",
    "        {\"pitchClass\": \"X\", \"type\": \"eighth\", \"isChord\": False, \"enharmonic\": False}\n",
    "    ],\n",
    "    #\"pitchSimilarityThreshold\": 0.5,\n",
    "    #\"typeSimilarityThreshold\": 0.5,\n",
    "    #\"averageSimilarityThreshold\": 0.5,\n",
    "    #\"outputFile\": \"nyck.csv\"\n",
    "}\n",
    "\n",
    "patternResult = score.findPattern(pattern)"
   ]
  },
  {
   "cell_type": "code",
   "execution_count": null,
   "metadata": {},
   "outputs": [],
   "source": [
    "# DISPLAY RESULTS IN A TABLE (USING PANDAS LIBRARY)\n",
    "df = pd.DataFrame.from_records(patternResult, columns=[\"partName\", \"measureStart\", \"measureEnd\", \"transposedSemitones\", \"typeRatio\",  \"typeSimilarity\", \"pitchSimilarity\", \"averageSimilarity\"])\n",
    "pd.set_option('precision', 2)\n",
    "\n",
    "df"
   ]
  },
  {
   "cell_type": "code",
   "execution_count": null,
   "metadata": {},
   "outputs": [],
   "source": [
    "# FILTER TABLE DATA (USING PANDAS LIBRARY)\n",
    "filtered = df.loc[df['typeSimilarity'] == 1]\n",
    "pd.set_option('precision', 2)\n",
    "filtered"
   ]
  },
  {
   "cell_type": "code",
   "execution_count": null,
   "metadata": {},
   "outputs": [],
   "source": [
    "# PLOT DATA (USING MATPLOTLIB LIBARY)\n",
    "fig, ax = plt.subplots(figsize=(15,15))\n",
    "ax.plot(filtered.index, filtered['pitchSimilarity'])\n",
    "ax.set_xlabel(\"Iteration Index\")\n",
    "ax.set_ylabel(\"pitchSimilarity\")\n",
    "plt.show()"
   ]
  },
  {
   "cell_type": "code",
   "execution_count": null,
   "metadata": {},
   "outputs": [],
   "source": [
    "# GET PERCENTILES:\n",
    "desiredPercentiles = [0.7, 0.8, 0.9]\n",
    "percentiles = maia.getPercentiles(patternResult, desiredPercentiles)\n",
    "percentilesTable = pd.DataFrame(percentiles)\n",
    "percentilesTable"
   ]
  },
  {
   "cell_type": "code",
   "execution_count": null,
   "metadata": {},
   "outputs": [],
   "source": []
  }
 ],
 "metadata": {
  "kernelspec": {
   "display_name": "Python 3",
   "language": "python",
   "name": "python3"
  },
  "language_info": {
   "codemirror_mode": {
    "name": "ipython",
    "version": 3
   },
   "file_extension": ".py",
   "mimetype": "text/x-python",
   "name": "python",
   "nbconvert_exporter": "python",
   "pygments_lexer": "ipython3",
   "version": "3.8.5"
  }
 },
 "nbformat": 4,
 "nbformat_minor": 4
}
