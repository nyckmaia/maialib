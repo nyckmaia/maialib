{
 "cells": [
  {
   "cell_type": "markdown",
   "metadata": {},
   "source": [
    "# Find Pattern (In development)"
   ]
  },
  {
   "cell_type": "code",
   "execution_count": null,
   "metadata": {},
   "outputs": [],
   "source": [
    "import maialib as ml"
   ]
  },
  {
   "cell_type": "code",
   "execution_count": null,
   "metadata": {},
   "outputs": [],
   "source": [
    "# score = ml.Score('../test/xml_examples/Beethoven/Symphony_5th_1Mov.xml')"
   ]
  },
  {
   "cell_type": "code",
   "execution_count": null,
   "metadata": {},
   "outputs": [],
   "source": [
    "# pattern = {\n",
    "#     \"parts\": \"all\",\n",
    "#     \"measures\": \"all\",\n",
    "#     \"relativePitch\": True,\n",
    "#     \"relativeRhythm\": False,\n",
    "#      \"notes\": [\n",
    "#         {\"pitchClass\": \"X\", \"octave\": 4, \"type\": \"eighth\", \"isChord\": False, \"enharmonic\": False}, \n",
    "#         {\"pitchClass\": \"rest\",\"type\": \"eighth\", \"isChord\": False, \"enharmonic\": False},\n",
    "#         {\"pitchClass\": \"X\", \"type\": \"eighth\", \"isChord\": False, \"enharmonic\": False}\n",
    "#     ],\n",
    "#     #\"pitchSimilarityThreshold\": 0.5,\n",
    "#     #\"typeSimilarityThreshold\": 0.5,\n",
    "#     #\"averageSimilarityThreshold\": 0.5,\n",
    "#     #\"outputFile\": \"nyck.csv\"\n",
    "# }\n",
    "\n",
    "# patternResult = score.findPattern(pattern)"
   ]
  }
 ],
 "metadata": {
  "kernelspec": {
   "display_name": "Python 3",
   "language": "python",
   "name": "python3"
  },
  "language_info": {
   "codemirror_mode": {
    "name": "ipython",
    "version": 3
   },
   "file_extension": ".py",
   "mimetype": "text/x-python",
   "name": "python",
   "nbconvert_exporter": "python",
   "pygments_lexer": "ipython3",
   "version": "3.8.5"
  }
 },
 "nbformat": 4,
 "nbformat_minor": 4
}
