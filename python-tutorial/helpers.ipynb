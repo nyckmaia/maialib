{
 "cells": [
  {
   "cell_type": "code",
   "execution_count": 1,
   "metadata": {},
   "outputs": [],
   "source": [
    "from maialib import *\n",
    "\n",
    "# ===== IMPORT OTHER LIBRARIES ===== #\n",
    "import pandas as pd # To display/manipulate tables "
   ]
  },
  {
   "cell_type": "markdown",
   "metadata": {},
   "source": [
    "# Note Similarity"
   ]
  },
  {
   "cell_type": "code",
   "execution_count": null,
   "metadata": {},
   "outputs": [],
   "source": [
    "# COMPUTE A SINGLE NOTE SIMILARITY:\n",
    "c = Helper.noteSimilarity(\"rest\", 1, 24, \"D\", 1, 24, True)\n",
    "similarityTable = pd.DataFrame([c], columns=[\"pitchSimilarity\", \"typeSimilarity\", \"averageSimilarity\"])\n",
    "similarityTable"
   ]
  },
  {
   "cell_type": "markdown",
   "metadata": {},
   "source": [
    "# Transpose Pitch"
   ]
  },
  {
   "cell_type": "markdown",
   "metadata": {},
   "source": [
    "To get the desired flat/sharp output notes, you can call this function in two ways:\n",
    "* Without the alter symbol (\"#\" is default)\n",
    "* With the alter symbol"
   ]
  },
  {
   "cell_type": "code",
   "execution_count": null,
   "metadata": {},
   "outputs": [],
   "source": [
    "x = Helper.transposePitch(\"A4\", 1) # Sharp as default\n",
    "y = Helper.transposePitch(\"A4\", 1, \"#\") # The same as using the \"#\" default\n",
    "z = Helper.transposePitch(\"A4\", 1, \"b\") # Force the flat representation\n",
    "\n",
    "print(x, y, z)"
   ]
  },
  {
   "cell_type": "markdown",
   "metadata": {},
   "source": [
    "# Convert MIDI to Frequency"
   ]
  },
  {
   "cell_type": "code",
   "execution_count": null,
   "metadata": {},
   "outputs": [],
   "source": [
    "Helper.midiNote2freq(60)"
   ]
  },
  {
   "cell_type": "markdown",
   "metadata": {},
   "source": [
    "# Convert frequency to MIDI Note"
   ]
  },
  {
   "cell_type": "markdown",
   "metadata": {},
   "source": [
    "This function returns a pair [closestMIDINote, centsOffset]\n",
    "\n",
    "So you have both informations: \n",
    "* The closest MIDI Note value\n",
    "* The cents offset: The distance of the closest MIDI Note value to the given frequency (in cents)"
   ]
  },
  {
   "cell_type": "code",
   "execution_count": null,
   "metadata": {},
   "outputs": [],
   "source": [
    "Helper.freq2midiNote(440)"
   ]
  },
  {
   "cell_type": "markdown",
   "metadata": {},
   "source": [
    "# Convert MIDI Note to pitch"
   ]
  },
  {
   "cell_type": "code",
   "execution_count": null,
   "metadata": {},
   "outputs": [],
   "source": [
    "Helper.midiNote2pitch(60)"
   ]
  },
  {
   "cell_type": "markdown",
   "metadata": {},
   "source": [
    "For flat/sharp notes, you can call this function in two ways\n",
    "* Without the alter symbol (\"#\" is default)\n",
    "* With the alter symbol"
   ]
  },
  {
   "cell_type": "code",
   "execution_count": null,
   "metadata": {},
   "outputs": [],
   "source": [
    "a = Helper.midiNote2pitch(61) # Sharp as default\n",
    "b = Helper.midiNote2pitch(61, \"#\") # The same as using the \"#\" default\n",
    "c = Helper.midiNote2pitch(61, \"b\") # Force the flat representation\n",
    "\n",
    "print (a, b, c)"
   ]
  },
  {
   "cell_type": "markdown",
   "metadata": {},
   "source": [
    "## Convert Pitch to MIDI Note"
   ]
  },
  {
   "cell_type": "code",
   "execution_count": 4,
   "metadata": {},
   "outputs": [
    {
     "data": {
      "text/plain": [
       "69"
      ]
     },
     "execution_count": 4,
     "metadata": {},
     "output_type": "execute_result"
    }
   ],
   "source": [
    "Helper.pitch2midiNote(\"A4\")"
   ]
  },
  {
   "cell_type": "markdown",
   "metadata": {},
   "source": [
    "## Convert Pitch to Frequency"
   ]
  },
  {
   "cell_type": "code",
   "execution_count": 5,
   "metadata": {},
   "outputs": [
    {
     "data": {
      "text/plain": [
       "440.0"
      ]
     },
     "execution_count": 5,
     "metadata": {},
     "output_type": "execute_result"
    }
   ],
   "source": [
    "Helper.pitch2freq(\"A4\")"
   ]
  },
  {
   "cell_type": "markdown",
   "metadata": {},
   "source": [
    "## Convert Frequency to Pitch"
   ]
  },
  {
   "cell_type": "markdown",
   "metadata": {},
   "source": [
    "For flat/sharp notes, you can call this function in two ways\n",
    "\n",
    "* Without the alter symbol (\"#\" is default)\n",
    "* With the alter symbol"
   ]
  },
  {
   "cell_type": "code",
   "execution_count": 26,
   "metadata": {},
   "outputs": [
    {
     "name": "stdout",
     "output_type": "stream",
     "text": [
      "Frequency: 444 => A4 with 16 offset cents\n"
     ]
    }
   ],
   "source": [
    "myFreq = 444\n",
    "[pitch, centsOffset] = Helper.freq2pitch(myFreq)\n",
    "print (\"Frequency:\", myFreq, \"=>\", pitch, \"with\", centsOffset, \"offset cents\")"
   ]
  },
  {
   "cell_type": "markdown",
   "metadata": {},
   "source": [
    "# Compute the Pitch Ratio between two pitches"
   ]
  },
  {
   "cell_type": "code",
   "execution_count": null,
   "metadata": {},
   "outputs": [],
   "source": [
    "Helper.pitchRatio(\"C4\", \"C6\")"
   ]
  }
 ],
 "metadata": {
  "kernelspec": {
   "display_name": "Python 3",
   "language": "python",
   "name": "python3"
  },
  "language_info": {
   "codemirror_mode": {
    "name": "ipython",
    "version": 3
   },
   "file_extension": ".py",
   "mimetype": "text/x-python",
   "name": "python",
   "nbconvert_exporter": "python",
   "pygments_lexer": "ipython3",
   "version": "3.8.5"
  }
 },
 "nbformat": 4,
 "nbformat_minor": 4
}
