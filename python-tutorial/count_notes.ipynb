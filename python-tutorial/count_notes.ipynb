{
 "cells": [
  {
   "cell_type": "markdown",
   "metadata": {},
   "source": [
    "# Count Notes"
   ]
  },
  {
   "cell_type": "code",
   "execution_count": 1,
   "metadata": {},
   "outputs": [],
   "source": [
    "from maialib import *"
   ]
  },
  {
   "cell_type": "code",
   "execution_count": 13,
   "metadata": {},
   "outputs": [
    {
     "name": "stdout",
     "output_type": "stream",
     "text": [
      "Loading file...1%...3%...5%...7%...9%...11%...13%...15%...17%...19%...21%...23%...25%...26%...28%...30%...32%...34%...36%...38%...40%...42%...44%...46%...48%...50%...51%...53%...55%...57%...59%...61%...63%...65%...67%...69%...71%...73%...75%...76%...78%...80%...82%...84%...86%...88%...90%...92%...94%...96%...98%...100%\n",
      "Done in 67 seconds!\n"
     ]
    }
   ],
   "source": [
    "myScore = Score(\"../tests/xml_examples/Beethoven/Symphony_9th.xml\")"
   ]
  },
  {
   "cell_type": "code",
   "execution_count": 12,
   "metadata": {},
   "outputs": [
    {
     "data": {
      "text/plain": [
       "0"
      ]
     },
     "execution_count": 12,
     "metadata": {},
     "output_type": "execute_result"
    }
   ],
   "source": [
    "config = {\n",
    "    \"parts\": \"Piano\",\n",
    "    \"measures\": \"all\",\n",
    "    \"pitchClass\": \"C\",\n",
    "    \"octave\": \"all\",\n",
    "    \"voice\": \"all\",\n",
    "    \"type\": \"all\",\n",
    "    \"staff\": \"all\"\n",
    "}\n",
    "\n",
    "myScore.countNotes(config)"
   ]
  }
 ],
 "metadata": {
  "kernelspec": {
   "display_name": "Python 3",
   "language": "python",
   "name": "python3"
  },
  "language_info": {
   "codemirror_mode": {
    "name": "ipython",
    "version": 3
   },
   "file_extension": ".py",
   "mimetype": "text/x-python",
   "name": "python",
   "nbconvert_exporter": "python",
   "pygments_lexer": "ipython3",
   "version": "3.8.5"
  }
 },
 "nbformat": 4,
 "nbformat_minor": 4
}
