{
 "cells": [
  {
   "cell_type": "markdown",
   "metadata": {},
   "source": [
    "# Create Score"
   ]
  },
  {
   "cell_type": "markdown",
   "metadata": {},
   "source": [
    "Maialib allow you to create a music score in 2 ways:\n",
    "* Create a blank score from scratch and add notes manually\n",
    "* Load an existent music score from a MusicXML file"
   ]
  },
  {
   "cell_type": "markdown",
   "metadata": {},
   "source": [
    "## 01 - Create a simple blank score (from scratch)"
   ]
  },
  {
   "cell_type": "markdown",
   "metadata": {},
   "source": [
    "First of all, import maialib library"
   ]
  },
  {
   "cell_type": "code",
   "execution_count": 1,
   "metadata": {},
   "outputs": [],
   "source": [
    "from maialib import *"
   ]
  },
  {
   "cell_type": "markdown",
   "metadata": {},
   "source": [
    "To create a blank score from scratch you need to pass a list of part names"
   ]
  },
  {
   "cell_type": "code",
   "execution_count": 2,
   "metadata": {},
   "outputs": [],
   "source": [
    "myScore = Score([\"Flute\", \"Violin\"])"
   ]
  },
  {
   "cell_type": "markdown",
   "metadata": {},
   "source": [
    "After that, you can add any instruments with any names"
   ]
  },
  {
   "cell_type": "code",
   "execution_count": 3,
   "metadata": {},
   "outputs": [],
   "source": [
    "myScore.addPart(\"Cello\")"
   ]
  },
  {
   "cell_type": "markdown",
   "metadata": {},
   "source": [
    "Optional: After added the desired instruments, you can set the Time and Key Signatures\n",
    "\n",
    "The default values are: \"4/4\" and \"C\""
   ]
  },
  {
   "cell_type": "code",
   "execution_count": 4,
   "metadata": {},
   "outputs": [],
   "source": [
    "myScore.setTimeSignature(4, 4)\n",
    "myScore.setKeySignature(\"G\")"
   ]
  },
  {
   "cell_type": "markdown",
   "metadata": {},
   "source": [
    "You can add notes to the score in 2 ways:\n",
    "* Just append notes to the last measure in some part\n",
    "* Add notes to a specific measure in some part"
   ]
  },
  {
   "cell_type": "markdown",
   "metadata": {},
   "source": [
    "### 1.1 - Just append notes to the last measure"
   ]
  },
  {
   "cell_type": "code",
   "execution_count": 5,
   "metadata": {},
   "outputs": [
    {
     "data": {
      "text/plain": [
       "256"
      ]
     },
     "execution_count": 5,
     "metadata": {},
     "output_type": "execute_result"
    }
   ],
   "source": [
    "myNote01 = Note(\"C\")\n",
    "myNote02 = Note(\"D\")\n",
    "myNote03 = Note(\"E\")\n",
    "myNote04 = Note(\"F\")\n",
    "myNote05 = Note(\"G\")\n",
    "myNote06 = Note(\"A\")\n",
    "myScore.getPart(1).append([myNote01, myNote02, myNote03, myNote04, myNote05, myNote06])\n",
    "\n",
    "myScore.getPart(1).getMeasure(0).getNote(0).getDurationTicks()"
   ]
  },
  {
   "cell_type": "markdown",
   "metadata": {},
   "source": [
    "### 1.2 - Add notes to a specific measure"
   ]
  },
  {
   "cell_type": "markdown",
   "metadata": {},
   "source": [
    "You can add notes to a specific measure calling the method `.addNote()`.\n",
    "\n",
    "This method accepts 2 types of input arguments:\n",
    "* `.addNote(Note)` => Note input argument\n",
    "* `.addNote([Note01, Note02, ...])` => List of Notes input argument (vector)"
   ]
  },
  {
   "cell_type": "code",
   "execution_count": 6,
   "metadata": {},
   "outputs": [],
   "source": [
    "myNote01 = Note(\"C\")\n",
    "myNote02 = Note(\"D\")\n",
    "myNote03 = Note(\"E\")\n",
    "myScore.getPart(0).getMeasure(0).addNote(myNote01)\n",
    "myScore.getPart(0).getMeasure(0).addNote([myNote02, myNote03])"
   ]
  },
  {
   "cell_type": "markdown",
   "metadata": {},
   "source": [
    "To read back any note stored in the score, use:"
   ]
  },
  {
   "cell_type": "code",
   "execution_count": 7,
   "metadata": {},
   "outputs": [
    {
     "name": "stdout",
     "output_type": "stream",
     "text": [
      "E4\n",
      "256\n"
     ]
    }
   ],
   "source": [
    "singleNote = myScore.getPart(0).getMeasure(0).getNote(2)\n",
    "print(singleNote)\n",
    "print(singleNote.getDurationTicks())"
   ]
  },
  {
   "cell_type": "markdown",
   "metadata": {},
   "source": [
    "To see the added notes, you can iterate over them using:"
   ]
  },
  {
   "cell_type": "code",
   "execution_count": 8,
   "metadata": {},
   "outputs": [
    {
     "name": "stdout",
     "output_type": "stream",
     "text": [
      "C4\n",
      "D4\n",
      "E4\n"
     ]
    }
   ],
   "source": [
    "numNotes = myScore.getPart(0).getMeasure(0).getNumElements()\n",
    "\n",
    "for n in range(numNotes):\n",
    "    note = myScore.getPart(0).getMeasure(0).getNote(n)\n",
    "    print(note)"
   ]
  },
  {
   "cell_type": "markdown",
   "metadata": {},
   "source": [
    "If you want to add/insert a note in a specific position, you can pass the note index to the `.addNote()` method:"
   ]
  },
  {
   "cell_type": "code",
   "execution_count": 9,
   "metadata": {},
   "outputs": [],
   "source": [
    "myScore.getPart(0).getMeasure(0).addNote(Note(\"F\"), 2) # Obs.: The index count starts with 0. So the '2' will be the '3th' note"
   ]
  },
  {
   "cell_type": "code",
   "execution_count": 10,
   "metadata": {},
   "outputs": [
    {
     "name": "stdout",
     "output_type": "stream",
     "text": [
      "C4\n",
      "256\n",
      "D4\n",
      "256\n",
      "F4\n",
      "256\n",
      "E4\n",
      "256\n"
     ]
    }
   ],
   "source": [
    "numNotes = myScore.getPart(0).getMeasure(0).getNumElements()\n",
    "\n",
    "for n in range(numNotes):\n",
    "    note = myScore.getPart(0).getMeasure(0).getNote(n)\n",
    "    print(note)\n",
    "    print(note.getDurationTicks())"
   ]
  },
  {
   "cell_type": "markdown",
   "metadata": {},
   "source": [
    "### 1.3 - Create / Add unpitched Parts and notes"
   ]
  },
  {
   "cell_type": "markdown",
   "metadata": {},
   "source": [
    "A `unpitched` part is like any other `pitched` part.\n",
    "\n",
    "So, first add a new part to your score, like:"
   ]
  },
  {
   "cell_type": "code",
   "execution_count": 11,
   "metadata": {},
   "outputs": [],
   "source": [
    "myScore.addPart(\"myPerc\")"
   ]
  },
  {
   "cell_type": "markdown",
   "metadata": {},
   "source": [
    "To this new part became a `unpitched` part you must set 3 parameters:"
   ]
  },
  {
   "cell_type": "code",
   "execution_count": 12,
   "metadata": {},
   "outputs": [],
   "source": [
    "myScore.getPart(3).setStaffLines(1)\n",
    "myScore.getPart(3).setIsPitched(False)\n",
    "myScore.getPart(3).getMeasure(0).getClef(0).setSign(\"percussion\")"
   ]
  },
  {
   "cell_type": "markdown",
   "metadata": {},
   "source": [
    "Now you can create your notes..."
   ]
  },
  {
   "cell_type": "code",
   "execution_count": 13,
   "metadata": {},
   "outputs": [],
   "source": [
    "unpitched01 = Note(\"E\")\n",
    "unpitched02 = Note(\"E\")\n",
    "unpitched03 = Note(\"E\")"
   ]
  },
  {
   "cell_type": "markdown",
   "metadata": {},
   "source": [
    "Finally, set these new notes as `unpitched` and add them to the score, like:"
   ]
  },
  {
   "cell_type": "code",
   "execution_count": 14,
   "metadata": {},
   "outputs": [],
   "source": [
    "unpitched01.setIsPitched(False)\n",
    "unpitched02.setIsPitched(False)\n",
    "unpitched03.setIsPitched(False)\n",
    "\n",
    "myScore.getPart(3).getMeasure(0).addNote([unpitched01, unpitched02, unpitched03])"
   ]
  },
  {
   "cell_type": "markdown",
   "metadata": {},
   "source": [
    "You can generate a MusicXML file of `myScore` using:"
   ]
  },
  {
   "cell_type": "code",
   "execution_count": 15,
   "metadata": {},
   "outputs": [],
   "source": [
    "myScore.toFile(\"manualScore.xml\")"
   ]
  },
  {
   "cell_type": "markdown",
   "metadata": {},
   "source": [
    "You can see the score resume using:"
   ]
  },
  {
   "cell_type": "code",
   "execution_count": null,
   "metadata": {},
   "outputs": [],
   "source": [
    "myScore.info()"
   ]
  },
  {
   "cell_type": "markdown",
   "metadata": {},
   "source": [
    "## 02 - Load/Import a existent score (MusicXML file)"
   ]
  },
  {
   "cell_type": "code",
   "execution_count": null,
   "metadata": {},
   "outputs": [],
   "source": [
    "myScore = Score(\"../tests/xml_examples/unit_test/test_musical_scale.xml\")"
   ]
  },
  {
   "cell_type": "markdown",
   "metadata": {},
   "source": [
    "After load the XML file, you can get a info about it:"
   ]
  },
  {
   "cell_type": "code",
   "execution_count": null,
   "metadata": {},
   "outputs": [],
   "source": [
    "myScore.info()"
   ]
  },
  {
   "cell_type": "markdown",
   "metadata": {},
   "source": [
    "And get the parts name and index"
   ]
  },
  {
   "cell_type": "code",
   "execution_count": null,
   "metadata": {},
   "outputs": [],
   "source": [
    "myScore.getPartsName()"
   ]
  },
  {
   "cell_type": "markdown",
   "metadata": {},
   "source": [
    "You can get a name of a specific part"
   ]
  },
  {
   "cell_type": "code",
   "execution_count": null,
   "metadata": {},
   "outputs": [],
   "source": [
    "myPart = myScore.getPart(0)\n",
    "myPart.getName()"
   ]
  },
  {
   "cell_type": "markdown",
   "metadata": {},
   "source": [
    "So, you can also read a specific note..."
   ]
  },
  {
   "cell_type": "code",
   "execution_count": null,
   "metadata": {},
   "outputs": [],
   "source": [
    "myNote = myScore.getPart(0).getMeasure(0).getNote(0)\n",
    "print(myNote)"
   ]
  },
  {
   "cell_type": "markdown",
   "metadata": {},
   "source": [
    "# Get some score information"
   ]
  },
  {
   "cell_type": "markdown",
   "metadata": {},
   "source": [
    "In this example, we show how to load a XML score and go through all notes looking for some desired parameter\n",
    "\n",
    "First, we need to import the XML file"
   ]
  },
  {
   "cell_type": "code",
   "execution_count": null,
   "metadata": {},
   "outputs": [],
   "source": [
    "myScore = Score(\"../tests/xml_examples/Beethoven/Symphony_9th.xml\")"
   ]
  },
  {
   "cell_type": "markdown",
   "metadata": {},
   "source": [
    "Now, we would like to count the amount of notes where the pitch is higher than 'A4'\n",
    "\n",
    "To do that, we need to iterate over all 'parts', 'staves', 'measures' and 'notes'.\n",
    "\n",
    "Finally, we compare each note (called `currentNote`) with our reference (called `noteLimit`)"
   ]
  },
  {
   "cell_type": "code",
   "execution_count": null,
   "metadata": {},
   "outputs": [],
   "source": [
    "noteLimit = Note(\"A\")\n",
    "count = 0\n",
    "\n",
    "for p in range(myScore.getNumParts()): # For each part 'p'\n",
    "    currentPart = myScore.getPart(p)\n",
    "        \n",
    "    for m in range(currentPart.getNumMeasures()): # for each measure 'm'\n",
    "        currentMeasure = currentPart.getMeasure(m)\n",
    "        \n",
    "        for s in range(currentMeasure.getNumStaves()): # for each stave 's'\n",
    "            staveNumElememts = currentMeasure.getNumElements(s)\n",
    "            \n",
    "            for n in range(staveNumElememts): # for each note 'n'\n",
    "                currentNote = currentMeasure.getNote(n, s)\n",
    "                \n",
    "                if (currentNote > noteLimit): # Compare the temperated pitch between the current note and limit note \n",
    "                    count = count + 1;\n",
    "\n",
    "print(\"Amount of notes higher than\", noteLimit.getPitch(), \"=\", count)"
   ]
  },
  {
   "cell_type": "markdown",
   "metadata": {},
   "source": [
    "# 'For each' Score Methods:\n",
    "The `Score` class have a way to simplify the loops over your internal objects: `Parts`, `Measures`, `Notes`\n",
    "You can loop through these internal elements using these methods below:\n",
    "- `.forEachPart()`\n",
    "- `.forEachMeasure()`\n",
    "- `.forEachNote()`\n",
    "\n",
    "In this example below, we how how to loop over each note inside the `myScore` and calling a *callback function* to process each individual note."
   ]
  },
  {
   "cell_type": "code",
   "execution_count": null,
   "metadata": {},
   "outputs": [],
   "source": [
    "def myCallbackFunction(note):\n",
    "    print(note.getPitch())\n",
    "\n",
    "myScore.forEachNote(myCallbackFunction)"
   ]
  },
  {
   "cell_type": "markdown",
   "metadata": {},
   "source": [
    "## Score::forEachPart(callback(part), partNames) - TODO\n",
    "## Score::forEachMeasure(callback(measure), partNames) - TODO\n",
    "## Score::forEachNote(callback(part), measureStart, MeasureEnd, partNames) - TODO"
   ]
  }
 ],
 "metadata": {
  "kernelspec": {
   "display_name": "Python 3",
   "language": "python",
   "name": "python3"
  },
  "language_info": {
   "codemirror_mode": {
    "name": "ipython",
    "version": 3
   },
   "file_extension": ".py",
   "mimetype": "text/x-python",
   "name": "python",
   "nbconvert_exporter": "python",
   "pygments_lexer": "ipython3",
   "version": "3.8.5"
  }
 },
 "nbformat": 4,
 "nbformat_minor": 4
}
