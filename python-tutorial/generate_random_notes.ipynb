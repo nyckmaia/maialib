{
 "cells": [
  {
   "cell_type": "markdown",
   "metadata": {},
   "source": [
    "# Generate Random Notes"
   ]
  },
  {
   "cell_type": "markdown",
   "metadata": {},
   "source": [
    "In this example we show how to generate a list of random `Note` objects"
   ]
  },
  {
   "cell_type": "code",
   "execution_count": 1,
   "metadata": {},
   "outputs": [],
   "source": [
    "import maialib as ml\n",
    "from maialib import RhythmFigure as rf\n",
    "import random"
   ]
  },
  {
   "cell_type": "code",
   "execution_count": 2,
   "metadata": {},
   "outputs": [],
   "source": [
    "diatonicPitchClasses = [\"C\", \"D\", \"E\", \"F\", \"G\", \"A\", \"B\", \"rest\"]\n",
    "alterSymbols = [\"b\", \"\", \"#\"]\n",
    "octaves = [3, 4, 5]\n",
    "durationTicks = [rf.QUARTER, rf.EIGHTH]"
   ]
  },
  {
   "cell_type": "code",
   "execution_count": 3,
   "metadata": {},
   "outputs": [],
   "source": [
    "myNotes = []\n",
    "for n in range(10):\n",
    "    pitchClass = random.choice(diatonicPitchClasses) + random.choice(alterSymbols) # Get random pitchClass\n",
    "    octave = random.choice(octaves) # Get random octave\n",
    "    duration = random.choice(durationTicks) # Get random duration\n",
    "    \n",
    "    pitch = pitchClass + str(octave)\n",
    "    note = ml.Note(pitch, duration) # Construct the Note\n",
    "    \n",
    "    myNotes.append(note) # Add this note to the list"
   ]
  },
  {
   "cell_type": "markdown",
   "metadata": {},
   "source": [
    "Now you can print the `myNotes` list"
   ]
  },
  {
   "cell_type": "code",
   "execution_count": 4,
   "metadata": {},
   "outputs": [
    {
     "data": {
      "text/plain": [
       "[<Note C#3>,\n",
       " <Note Gb4>,\n",
       " <Note E#4>,\n",
       " <Note G5>,\n",
       " <Note Ab4>,\n",
       " <Note C#3>,\n",
       " <Note B#3>,\n",
       " <Note E#3>,\n",
       " <Note F#4>,\n",
       " <Note Eb5>]"
      ]
     },
     "execution_count": 4,
     "metadata": {},
     "output_type": "execute_result"
    }
   ],
   "source": [
    "myNotes"
   ]
  },
  {
   "cell_type": "markdown",
   "metadata": {},
   "source": [
    "You can also get any information about these notes above, like:"
   ]
  },
  {
   "cell_type": "code",
   "execution_count": 5,
   "metadata": {},
   "outputs": [
    {
     "name": "stdout",
     "output_type": "stream",
     "text": [
      "MIDI Number: 65  - Duration Ticks: 128\n"
     ]
    }
   ],
   "source": [
    "print(\"MIDI Number:\", myNotes[2].getMidiNumber(), \" - Duration Ticks:\", myNotes[2].getDurationTicks())"
   ]
  }
 ],
 "metadata": {
  "kernelspec": {
   "display_name": "Python 3",
   "language": "python",
   "name": "python3"
  },
  "language_info": {
   "codemirror_mode": {
    "name": "ipython",
    "version": 3
   },
   "file_extension": ".py",
   "mimetype": "text/x-python",
   "name": "python",
   "nbconvert_exporter": "python",
   "pygments_lexer": "ipython3",
   "version": "3.12.5"
  }
 },
 "nbformat": 4,
 "nbformat_minor": 4
}
