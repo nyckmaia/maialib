{
 "cells": [
  {
   "cell_type": "markdown",
   "metadata": {},
   "source": [
    "# Generate Random Notes"
   ]
  },
  {
   "cell_type": "markdown",
   "metadata": {},
   "source": [
    "In this example we show how to generate a list of random `Note` objects"
   ]
  },
  {
   "cell_type": "code",
   "execution_count": 4,
   "metadata": {},
   "outputs": [],
   "source": [
    "import maialib as ml\n",
    "import random"
   ]
  },
  {
   "cell_type": "code",
   "execution_count": 5,
   "metadata": {},
   "outputs": [],
   "source": [
    "diatonicPitchClasses = [\"C\", \"D\", \"E\", \"F\", \"G\", \"A\", \"B\", \"rest\"]\n",
    "alterSymbols = [\"b\", \"\", \"#\"]\n",
    "octaves = [3, 4, 5]\n",
    "durationTicks = [ml.Duration.QUARTER, ml.Duration.EIGHTH]"
   ]
  },
  {
   "cell_type": "code",
   "execution_count": 6,
   "metadata": {},
   "outputs": [],
   "source": [
    "myNotes = []\n",
    "for n in range(10):\n",
    "    pitchClass = random.choice(diatonicPitchClasses) + random.choice(alterSymbols) # Get random pitchClass\n",
    "    octave = random.choice(octaves) # Get random octave\n",
    "    duration = random.choice(durationTicks) # Get random duration\n",
    "    \n",
    "    pitch = pitchClass + str(octave)\n",
    "    note = ml.Note(pitch, duration) # Construct the Note\n",
    "    \n",
    "    myNotes.append(note) # Add this note to the list"
   ]
  },
  {
   "cell_type": "markdown",
   "metadata": {},
   "source": [
    "Now you can print the `myNotes` list"
   ]
  },
  {
   "cell_type": "code",
   "execution_count": 7,
   "metadata": {},
   "outputs": [
    {
     "data": {
      "text/plain": [
       "[<Note G#3>,\n",
       " <Note rest>,\n",
       " <Note A4>,\n",
       " <Note Ab3>,\n",
       " <Note D#4>,\n",
       " <Note G3>,\n",
       " <Note B3>,\n",
       " <Note D#3>,\n",
       " <Note G5>,\n",
       " <Note A3>]"
      ]
     },
     "execution_count": 7,
     "metadata": {},
     "output_type": "execute_result"
    }
   ],
   "source": [
    "myNotes"
   ]
  },
  {
   "cell_type": "markdown",
   "metadata": {},
   "source": [
    "You can also get any information about these notes above, like:"
   ]
  },
  {
   "cell_type": "code",
   "execution_count": null,
   "metadata": {},
   "outputs": [
    {
     "name": "stdout",
     "output_type": "stream",
     "text": [
      "MIDI Number: 69  - Duration Ticks: 128\n"
     ]
    }
   ],
   "source": [
    "print(\"MIDI Number:\", myNotes[2].getMidiNumber(), \" - Duration Ticks:\", myNotes[2].getDurationTicks())"
   ]
  }
 ],
 "metadata": {
  "kernelspec": {
   "display_name": "Python 3",
   "language": "python",
   "name": "python3"
  },
  "language_info": {
   "codemirror_mode": {
    "name": "ipython",
    "version": 3
   },
   "file_extension": ".py",
   "mimetype": "text/x-python",
   "name": "python",
   "nbconvert_exporter": "python",
   "pygments_lexer": "ipython3",
   "version": "3.10.6"
  }
 },
 "nbformat": 4,
 "nbformat_minor": 4
}
