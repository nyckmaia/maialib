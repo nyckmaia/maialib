{
 "cells": [
  {
   "cell_type": "markdown",
   "metadata": {},
   "source": [
    "# Generate Random Notes"
   ]
  },
  {
   "cell_type": "markdown",
   "metadata": {},
   "source": [
    "In this example we show how to generate a list of random `Note` objects"
   ]
  },
  {
   "cell_type": "code",
   "execution_count": 1,
   "metadata": {},
   "outputs": [],
   "source": [
    "from maialib import *\n",
    "\n",
    "# ===== IMPORT OTHER LIBRARIES ===== #\n",
    "import random"
   ]
  },
  {
   "cell_type": "code",
   "execution_count": 2,
   "metadata": {},
   "outputs": [],
   "source": [
    "diatonicPitchClasses = [\"C\", \"D\", \"E\", \"F\", \"G\", \"A\", \"B\", \"rest\"]\n",
    "alterSymbols = [\"b\", \"\", \"#\"]\n",
    "octaves = [3, 4, 5]\n",
    "durationTicks = [128, 256, 512]"
   ]
  },
  {
   "cell_type": "code",
   "execution_count": 3,
   "metadata": {},
   "outputs": [],
   "source": [
    "myNotes = []\n",
    "for n in range(10):\n",
    "    pitchClass = random.choice(diatonicPitchClasses) + random.choice(alterSymbols) # Get random pitchClass\n",
    "    octave = random.choice(octaves) # Get random octave\n",
    "    duration = random.choice(durationTicks) # Get random duration\n",
    "    \n",
    "    pitch = pitchClass + str(octave)\n",
    "    note = Note(pitch, duration) # Construct the Note\n",
    "    \n",
    "    myNotes.append(note) # Add this note to the list"
   ]
  },
  {
   "cell_type": "markdown",
   "metadata": {},
   "source": [
    "Now you can print the `myNotes` list"
   ]
  },
  {
   "cell_type": "code",
   "execution_count": 4,
   "metadata": {},
   "outputs": [
    {
     "data": {
      "text/plain": [
       "[Fb4, C#3, G3, A3, G3, rest, G#5, F5, B#4, F#3]"
      ]
     },
     "execution_count": 4,
     "metadata": {},
     "output_type": "execute_result"
    }
   ],
   "source": [
    "myNotes"
   ]
  },
  {
   "cell_type": "markdown",
   "metadata": {},
   "source": [
    "You can also get any information about these notes above, like:"
   ]
  },
  {
   "cell_type": "code",
   "execution_count": 5,
   "metadata": {},
   "outputs": [
    {
     "name": "stdout",
     "output_type": "stream",
     "text": [
      "MIDI Number: 55  - Duration Ticks: 128\n"
     ]
    }
   ],
   "source": [
    "print(\"MIDI Number:\", myNotes[2].getMIDINumber(), \" - Duration Ticks:\", myNotes[2].getDurationTicks())"
   ]
  },
  {
   "cell_type": "code",
   "execution_count": null,
   "metadata": {},
   "outputs": [],
   "source": []
  }
 ],
 "metadata": {
  "kernelspec": {
   "display_name": "Python 3",
   "language": "python",
   "name": "python3"
  },
  "language_info": {
   "codemirror_mode": {
    "name": "ipython",
    "version": 3
   },
   "file_extension": ".py",
   "mimetype": "text/x-python",
   "name": "python",
   "nbconvert_exporter": "python",
   "pygments_lexer": "ipython3",
   "version": "3.8.5"
  }
 },
 "nbformat": 4,
 "nbformat_minor": 4
}
