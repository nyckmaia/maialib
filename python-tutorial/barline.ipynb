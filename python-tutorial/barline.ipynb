{
 "cells": [
  {
   "cell_type": "markdown",
   "metadata": {},
   "source": [
    "# Barline"
   ]
  },
  {
   "cell_type": "markdown",
   "metadata": {},
   "source": [
    "First of all, import maialib library"
   ]
  },
  {
   "cell_type": "code",
   "execution_count": 1,
   "metadata": {},
   "outputs": [],
   "source": [
    "from maialib import *"
   ]
  },
  {
   "cell_type": "markdown",
   "metadata": {},
   "source": [
    "Create a simple flute solo score"
   ]
  },
  {
   "cell_type": "code",
   "execution_count": 2,
   "metadata": {},
   "outputs": [],
   "source": [
    "myScore = Score([\"Flute\"])\n",
    "\n",
    "myScore.setTimeSignature(4, 4)\n",
    "myScore.setKeySignature(\"G\")"
   ]
  },
  {
   "cell_type": "markdown",
   "metadata": {},
   "source": [
    "Append notes to the last measure"
   ]
  },
  {
   "cell_type": "code",
   "execution_count": 4,
   "metadata": {},
   "outputs": [],
   "source": [
    "myNote01 = Note(\"C\")\n",
    "myNote02 = Note(\"D\")\n",
    "myNote03 = Note(\"E\")\n",
    "myNote04 = Note(\"F\")\n",
    "myNote05 = Note(\"G\")\n",
    "myNote06 = Note(\"A\")\n",
    "myScore.getPart(0).append([myNote01, myNote02, myNote03, myNote04, myNote05, myNote06])"
   ]
  },
  {
   "cell_type": "markdown",
   "metadata": {},
   "source": [
    "Add barlines"
   ]
  },
  {
   "cell_type": "code",
   "execution_count": 5,
   "metadata": {},
   "outputs": [],
   "source": [
    "# Start repetition region\n",
    "myScore.getPart(0).getMeasure(0).setRepeatStart()\n",
    "\n",
    "# End repetiton region\n",
    "myScore.getPart(0).getMeasure(2).setRepeatEnd()"
   ]
  },
  {
   "cell_type": "code",
   "execution_count": 6,
   "metadata": {},
   "outputs": [],
   "source": [
    "myScore.toFile(\"manualScore.xml\")"
   ]
  },
  {
   "cell_type": "markdown",
   "metadata": {},
   "source": [
    "Obs.: To remove the added custom barlines, you can use:\n",
    "\n",
    "`.removeRepeatStart()`\n",
    "\n",
    "`.removeRepeatEnd()`"
   ]
  }
 ],
 "metadata": {
  "kernelspec": {
   "display_name": "Python 3",
   "language": "python",
   "name": "python3"
  },
  "language_info": {
   "codemirror_mode": {
    "name": "ipython",
    "version": 3
   },
   "file_extension": ".py",
   "mimetype": "text/x-python",
   "name": "python",
   "nbconvert_exporter": "python",
   "pygments_lexer": "ipython3",
   "version": "3.8.5"
  }
 },
 "nbformat": 4,
 "nbformat_minor": 4
}
