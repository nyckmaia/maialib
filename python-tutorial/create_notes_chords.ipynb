{
 "cells": [
  {
   "cell_type": "markdown",
   "metadata": {},
   "source": [
    "# Create Notes and Chords"
   ]
  },
  {
   "cell_type": "markdown",
   "metadata": {},
   "source": [
    "## Import maialib"
   ]
  },
  {
   "cell_type": "code",
   "execution_count": 32,
   "metadata": {},
   "outputs": [],
   "source": [
    "import maialib as ml"
   ]
  },
  {
   "cell_type": "markdown",
   "metadata": {},
   "source": [
    "## Create Notes"
   ]
  },
  {
   "cell_type": "markdown",
   "metadata": {},
   "source": [
    "To create a note, you have pass at least the `pitchClass`.\n",
    "\n",
    "You can also pass the adicional `octave` and `durationTicks` values"
   ]
  },
  {
   "cell_type": "markdown",
   "metadata": {},
   "source": [
    "### Create a note with separated pitchClass and octave"
   ]
  },
  {
   "cell_type": "code",
   "execution_count": 33,
   "metadata": {},
   "outputs": [],
   "source": [
    "A4 = ml.Note(\"A\") # Set pitchClass-only. The default octave is 4\n",
    "C5 = ml.Note(\"C5\") # Set pitch (pitchClass + octave)\n",
    "E5 = ml.Note(\"E5\", ml.Duration.EIGHTH) # Set pitch and duration\n",
    "G5 = ml.Note(\"G5\")\n",
    "C6 = ml.Note(\"C6\")\n",
    "A6 = ml.Note(\"A6\")\n",
    "E7 = ml.Note(\"E7\")"
   ]
  },
  {
   "cell_type": "markdown",
   "metadata": {},
   "source": [
    "## Get note property "
   ]
  },
  {
   "cell_type": "code",
   "execution_count": 34,
   "metadata": {},
   "outputs": [
    {
     "name": "stdout",
     "output_type": "stream",
     "text": [
      "Pitch:  A4 Octave: 4\n"
     ]
    }
   ],
   "source": [
    "print(\"Pitch: \", A4.getPitch(), \"Octave:\", A4.getOctave())"
   ]
  },
  {
   "cell_type": "markdown",
   "metadata": {},
   "source": [
    "## Create rest"
   ]
  },
  {
   "cell_type": "markdown",
   "metadata": {},
   "source": [
    "In maialib, a `rest` is the same as a `note`. The only difference is that you need to set the 'rest pitchClass' as \"rest\"\n",
    "\n",
    "So you can construct a `rest` using the same input arguments of the `Note` constructor"
   ]
  },
  {
   "cell_type": "code",
   "execution_count": 35,
   "metadata": {},
   "outputs": [],
   "source": [
    "rest01 = ml.Note(\"rest\") # Set only the \"pitch\" as \"rest\" (default durationTicks is 256)\n",
    "rest02 = ml.Note(\"rest\", ml.Duration.EIGHTH) # Set the rest duration"
   ]
  },
  {
   "cell_type": "markdown",
   "metadata": {},
   "source": [
    "You can also use a shortcut to create a rest:"
   ]
  },
  {
   "cell_type": "code",
   "execution_count": 36,
   "metadata": {},
   "outputs": [],
   "source": [
    "rest03 = ml.Note(ml.Duration.QUARTER) # Set only the durationTicks\n",
    "rest04 = ml.Note(\"\") # Use the default duration = QUARTER"
   ]
  },
  {
   "cell_type": "markdown",
   "metadata": {},
   "source": [
    "## Create a Chord"
   ]
  },
  {
   "cell_type": "markdown",
   "metadata": {},
   "source": [
    "You can create a chord in 3 ways:\n",
    "\n",
    "a) Passing a vector of pitches to the Chord constructor\n",
    "\n",
    "b) Pasing a notes vector to the in the Chord constructor\n",
    "\n",
    "c) Create a blank Chord object and then use the `addNote()` method to put some note in the object"
   ]
  },
  {
   "cell_type": "code",
   "execution_count": 37,
   "metadata": {},
   "outputs": [],
   "source": [
    "myChord_01 = ml.Chord([\"C4\", \"E4\", \"G4\"])"
   ]
  },
  {
   "cell_type": "code",
   "execution_count": 38,
   "metadata": {},
   "outputs": [],
   "source": [
    "myChord_02 = ml.Chord([G5, C5, E5])"
   ]
  },
  {
   "cell_type": "code",
   "execution_count": 39,
   "metadata": {},
   "outputs": [
    {
     "data": {
      "text/plain": [
       "'C'"
      ]
     },
     "execution_count": 39,
     "metadata": {},
     "output_type": "execute_result"
    }
   ],
   "source": [
    "myChord_02.getName()"
   ]
  },
  {
   "cell_type": "code",
   "execution_count": 40,
   "metadata": {},
   "outputs": [],
   "source": [
    "myChord = ml.Chord() # Create a blank Chord\n",
    "\n",
    "myChord.addNote(G5)\n",
    "myChord.addNote(C5)\n",
    "myChord.addNote(E5)\n",
    "myChord.addNote(A4)\n",
    "myChord.addNote(C6)\n",
    "myChord.addNote(A6)\n",
    "myChord.addNote(E7)"
   ]
  },
  {
   "cell_type": "markdown",
   "metadata": {},
   "source": [
    "## Get chord properties"
   ]
  },
  {
   "cell_type": "code",
   "execution_count": 41,
   "metadata": {},
   "outputs": [
    {
     "data": {
      "text/plain": [
       "'Am7'"
      ]
     },
     "execution_count": 41,
     "metadata": {},
     "output_type": "execute_result"
    }
   ],
   "source": [
    "myChord.getName()"
   ]
  },
  {
   "cell_type": "code",
   "execution_count": 42,
   "metadata": {},
   "outputs": [
    {
     "data": {
      "text/plain": [
       "True"
      ]
     },
     "execution_count": 42,
     "metadata": {},
     "output_type": "execute_result"
    }
   ],
   "source": [
    "myChord.haveMinorSeventh()"
   ]
  },
  {
   "cell_type": "code",
   "execution_count": 43,
   "metadata": {},
   "outputs": [
    {
     "data": {
      "text/plain": [
       "False"
      ]
     },
     "execution_count": 43,
     "metadata": {},
     "output_type": "execute_result"
    }
   ],
   "source": [
    "myChord.haveMajorNinth()"
   ]
  },
  {
   "cell_type": "markdown",
   "metadata": {},
   "source": [
    "## Print chord notes"
   ]
  },
  {
   "cell_type": "markdown",
   "metadata": {},
   "source": [
    "There are 2 ways to print the internal chord notes:\n",
    "* `.print()` => Print all original chord notes\n",
    "* `.printStack()` => Print a reduced and sorted chord version stacked in thirds"
   ]
  },
  {
   "cell_type": "code",
   "execution_count": 44,
   "metadata": {},
   "outputs": [
    {
     "name": "stdout",
     "output_type": "stream",
     "text": [
      "----- Original Chord -----\n",
      "[INFO] note[0] = G5\n",
      "[INFO] note[1] = C5\n",
      "[INFO] note[2] = E5\n",
      "[INFO] note[3] = A4\n",
      "[INFO] note[4] = C6\n",
      "[INFO] note[5] = A6\n",
      "[INFO] note[6] = E7\n",
      "----- Reduced Stacked Chord -----\n",
      "[INFO] openStack[0] = A4\n",
      "[INFO] openStack[1] = C5\n",
      "[INFO] openStack[2] = E5\n",
      "[INFO] openStack[3] = G5\n"
     ]
    }
   ],
   "source": [
    "print(\"----- Original Chord -----\")\n",
    "myChord.print()\n",
    "print(\"----- Reduced Stacked Chord -----\")\n",
    "myChord.printStack()"
   ]
  },
  {
   "cell_type": "markdown",
   "metadata": {},
   "source": [
    "If you want an alias just to know the internal chord notes, you can just type the chord variable name, like:"
   ]
  },
  {
   "cell_type": "code",
   "execution_count": 45,
   "metadata": {},
   "outputs": [
    {
     "data": {
      "text/plain": [
       "<Chord [G5, C5, E5, A4, C6, A6, E7]>"
      ]
     },
     "execution_count": 45,
     "metadata": {},
     "output_type": "execute_result"
    }
   ],
   "source": [
    "myChord"
   ]
  },
  {
   "cell_type": "markdown",
   "metadata": {},
   "source": [
    "## Get MIDI Intervals (semitones)"
   ]
  },
  {
   "cell_type": "code",
   "execution_count": 46,
   "metadata": {},
   "outputs": [
    {
     "data": {
      "text/plain": [
       "[-7, 4, -7, 15, 9, 7]"
      ]
     },
     "execution_count": 46,
     "metadata": {},
     "output_type": "execute_result"
    }
   ],
   "source": [
    "myChord.getMIDIIntervals()"
   ]
  },
  {
   "cell_type": "markdown",
   "metadata": {},
   "source": [
    "## Get Intervals (objects)"
   ]
  },
  {
   "cell_type": "code",
   "execution_count": 47,
   "metadata": {},
   "outputs": [
    {
     "data": {
      "text/plain": [
       "[<Interval P5 desc>,\n",
       " <Interval M3 asc>,\n",
       " <Interval P5 desc>,\n",
       " <Interval m3 asc>,\n",
       " <Interval M6 asc>,\n",
       " <Interval P5 asc>]"
      ]
     },
     "execution_count": 47,
     "metadata": {},
     "output_type": "execute_result"
    }
   ],
   "source": [
    "myChord.getIntervals()"
   ]
  },
  {
   "cell_type": "markdown",
   "metadata": {},
   "source": [
    "## Get the chord Bass Note"
   ]
  },
  {
   "cell_type": "code",
   "execution_count": 48,
   "metadata": {},
   "outputs": [
    {
     "data": {
      "text/plain": [
       "'A4'"
      ]
     },
     "execution_count": 48,
     "metadata": {},
     "output_type": "execute_result"
    }
   ],
   "source": [
    "bassNote = myChord.getBassNote()\n",
    "bassNote.getPitch()"
   ]
  },
  {
   "cell_type": "markdown",
   "metadata": {},
   "source": [
    "## Transposed Notes"
   ]
  },
  {
   "cell_type": "markdown",
   "metadata": {},
   "source": [
    "A Clarinet Bb example: The 'sounding pitch' is 2 half steps below the 'written pitch'"
   ]
  },
  {
   "cell_type": "code",
   "execution_count": 49,
   "metadata": {},
   "outputs": [],
   "source": [
    "clarinetNote = ml.Note(\"C4\")"
   ]
  },
  {
   "cell_type": "markdown",
   "metadata": {},
   "source": [
    "To set this note as a 'transposed instrument' note, you must set the Transpose Intervals:\n",
    "* Diatonic Transpose Steps (first input argument)\n",
    "* Chromatic Transpose Steps (second input argument)\n",
    "\n",
    "In our case (Clarinet Bb), this values are -1 (which represent B) and -2 (Bb)"
   ]
  },
  {
   "cell_type": "code",
   "execution_count": 50,
   "metadata": {},
   "outputs": [
    {
     "name": "stdout",
     "output_type": "stream",
     "text": [
      "The written pitch is C4 , but the sounding pitch is Bb3\n"
     ]
    }
   ],
   "source": [
    "clarinetNote.setTransposingInterval(-1, -2)\n",
    "\n",
    "print(\"The written pitch is\", clarinetNote.getWrittenPitch(), \", but the sounding pitch is\", clarinetNote.getSoundingPitch())"
   ]
  },
  {
   "cell_type": "markdown",
   "metadata": {},
   "source": [
    "### Observations"
   ]
  },
  {
   "cell_type": "markdown",
   "metadata": {},
   "source": [
    "#### First Observation"
   ]
  },
  {
   "cell_type": "markdown",
   "metadata": {},
   "source": [
    "You can check if one one is tranposed or not using:"
   ]
  },
  {
   "cell_type": "code",
   "execution_count": 51,
   "metadata": {},
   "outputs": [
    {
     "data": {
      "text/plain": [
       "True"
      ]
     },
     "execution_count": 51,
     "metadata": {},
     "output_type": "execute_result"
    }
   ],
   "source": [
    "clarinetNote.isTransposed()"
   ]
  },
  {
   "cell_type": "markdown",
   "metadata": {},
   "source": [
    "#### Second Observation"
   ]
  },
  {
   "cell_type": "markdown",
   "metadata": {},
   "source": [
    "To get a note `pitch()` or `pitchClass()` you have 3 methods availabel:\n",
    "\n",
    "* `getWrittenPitch()` is the written pitch. It is the same of the sounding pitch if the instrument is not a transposing instrument\n",
    "* `getSoundingPitch()` is the sounding pitch. It is different of the written pitch if the instrument is a transposing instrument\n",
    "* `getPitch()` is only an alias to the `getWrittenPitch()` to avoid verbose code"
   ]
  },
  {
   "cell_type": "code",
   "execution_count": 52,
   "metadata": {},
   "outputs": [
    {
     "data": {
      "text/plain": [
       "3"
      ]
     },
     "execution_count": 52,
     "metadata": {},
     "output_type": "execute_result"
    }
   ],
   "source": [
    "clarinetNote.getOctave()"
   ]
  }
 ],
 "metadata": {
  "kernelspec": {
   "display_name": "Python 3",
   "language": "python",
   "name": "python3"
  },
  "language_info": {
   "codemirror_mode": {
    "name": "ipython",
    "version": 3
   },
   "file_extension": ".py",
   "mimetype": "text/x-python",
   "name": "python",
   "nbconvert_exporter": "python",
   "pygments_lexer": "ipython3",
   "version": "3.10.6"
  }
 },
 "nbformat": 4,
 "nbformat_minor": 4
}
