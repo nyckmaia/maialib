{
 "cells": [
  {
   "cell_type": "markdown",
   "metadata": {},
   "source": [
    "# Create Notes and Chords"
   ]
  },
  {
   "cell_type": "markdown",
   "metadata": {},
   "source": [
    "## Import maialib"
   ]
  },
  {
   "cell_type": "code",
   "execution_count": 1,
   "metadata": {},
   "outputs": [],
   "source": [
    "from maialib import *"
   ]
  },
  {
   "cell_type": "markdown",
   "metadata": {},
   "source": [
    "## Create Notes"
   ]
  },
  {
   "cell_type": "markdown",
   "metadata": {},
   "source": [
    "To create a note, you have pass at least the `pitchClass`.\n",
    "\n",
    "You can also pass the adicional `octave` and `durationTicks` values"
   ]
  },
  {
   "cell_type": "markdown",
   "metadata": {},
   "source": [
    "### Create a note with separated pitchClass and octave"
   ]
  },
  {
   "cell_type": "code",
   "execution_count": 4,
   "metadata": {},
   "outputs": [],
   "source": [
    "A4 = Note(\"A\") # Set pitchClass-only. The default octave is 4\n",
    "C5 = Note(\"C5\") # Set pitch (pitchClass + octave)\n",
    "E5 = Note(\"E5\", 128) # Set pitch and durationTicks\n",
    "G5 = Note(\"G5\", 5)\n",
    "C6 = Note(\"C6\", 6)\n",
    "A6 = Note(\"A6\", 6)\n",
    "E7 = Note(\"E7\", 7)"
   ]
  },
  {
   "cell_type": "markdown",
   "metadata": {},
   "source": [
    "## Get note property "
   ]
  },
  {
   "cell_type": "code",
   "execution_count": 3,
   "metadata": {},
   "outputs": [
    {
     "name": "stdout",
     "output_type": "stream",
     "text": [
      "Pitch:  A4 Octave: 4\n"
     ]
    }
   ],
   "source": [
    "print(\"Pitch: \", A4.getPitch(), \"Octave:\", A4.getOctave())"
   ]
  },
  {
   "cell_type": "markdown",
   "metadata": {},
   "source": [
    "## Create rest"
   ]
  },
  {
   "cell_type": "markdown",
   "metadata": {},
   "source": [
    "In maialib, a `rest` is the same as a `note`. The only difference is that you need to set the 'rest pitchClass' as \"rest\"\n",
    "\n",
    "So you can construct a `rest` using the same input arguments of the `Note` constructor"
   ]
  },
  {
   "cell_type": "code",
   "execution_count": 4,
   "metadata": {},
   "outputs": [],
   "source": [
    "rest01 = Note(\"rest\") # Set only the \"pitch\" as \"rest\" (default durationTicks is 256)\n",
    "rest02 = Note(\"rest\", 128) # Set the rest durationTick value"
   ]
  },
  {
   "cell_type": "markdown",
   "metadata": {},
   "source": [
    "You can also use a shortcut to create a rest:"
   ]
  },
  {
   "cell_type": "code",
   "execution_count": 5,
   "metadata": {},
   "outputs": [],
   "source": [
    "rest03 = Note(256) # Set only the durationTicks\n",
    "rest04 = Note(\"\") # Use the default durationTicks value = 256"
   ]
  },
  {
   "cell_type": "markdown",
   "metadata": {},
   "source": [
    "## Create a Chord"
   ]
  },
  {
   "cell_type": "markdown",
   "metadata": {},
   "source": [
    "You can create a chord in 3 ways:\n",
    "\n",
    "a) Passing a vector of pitches to the Chord constructor\n",
    "\n",
    "b) Pasing a notes vector to the in the Chord constructor\n",
    "\n",
    "c) Create a blank Chord object and then use the `addNote()` method to put some note in the object"
   ]
  },
  {
   "cell_type": "code",
   "execution_count": 9,
   "metadata": {},
   "outputs": [],
   "source": [
    "myChord_01 = Chord([\"C4\", \"E4\", \"G4\"])"
   ]
  },
  {
   "cell_type": "code",
   "execution_count": 10,
   "metadata": {},
   "outputs": [],
   "source": [
    "myChord_02 = Chord([G5, C5, E5])"
   ]
  },
  {
   "cell_type": "code",
   "execution_count": 11,
   "metadata": {},
   "outputs": [
    {
     "data": {
      "text/plain": [
       "'C'"
      ]
     },
     "execution_count": 11,
     "metadata": {},
     "output_type": "execute_result"
    }
   ],
   "source": [
    "myChord_02.getName()"
   ]
  },
  {
   "cell_type": "code",
   "execution_count": 12,
   "metadata": {},
   "outputs": [],
   "source": [
    "myChord = Chord() # Create a blank Chord\n",
    "\n",
    "myChord.addNote(G5)\n",
    "myChord.addNote(C5)\n",
    "myChord.addNote(E5)\n",
    "myChord.addNote(A4)\n",
    "myChord.addNote(C6)\n",
    "myChord.addNote(A6)\n",
    "myChord.addNote(E7)"
   ]
  },
  {
   "cell_type": "markdown",
   "metadata": {},
   "source": [
    "## Get chord properties"
   ]
  },
  {
   "cell_type": "code",
   "execution_count": 13,
   "metadata": {},
   "outputs": [
    {
     "data": {
      "text/plain": [
       "'Am7'"
      ]
     },
     "execution_count": 13,
     "metadata": {},
     "output_type": "execute_result"
    }
   ],
   "source": [
    "myChord.getName()"
   ]
  },
  {
   "cell_type": "code",
   "execution_count": 14,
   "metadata": {},
   "outputs": [
    {
     "data": {
      "text/plain": [
       "True"
      ]
     },
     "execution_count": 14,
     "metadata": {},
     "output_type": "execute_result"
    }
   ],
   "source": [
    "myChord.haveMinorSeventh()"
   ]
  },
  {
   "cell_type": "code",
   "execution_count": 15,
   "metadata": {},
   "outputs": [
    {
     "data": {
      "text/plain": [
       "False"
      ]
     },
     "execution_count": 15,
     "metadata": {},
     "output_type": "execute_result"
    }
   ],
   "source": [
    "myChord.haveMajorNinth()"
   ]
  },
  {
   "cell_type": "markdown",
   "metadata": {},
   "source": [
    "## Print chord notes"
   ]
  },
  {
   "cell_type": "markdown",
   "metadata": {},
   "source": [
    "There are 2 ways to print the internal chord notes:\n",
    "* `.print()` => Print all original chord notes\n",
    "* `.printStack()` => Print a reduced and sorted chord version stacked in thirds"
   ]
  },
  {
   "cell_type": "code",
   "execution_count": 12,
   "metadata": {},
   "outputs": [
    {
     "name": "stdout",
     "output_type": "stream",
     "text": [
      "----- Original Chord -----\n",
      "note[0] = G5\n",
      "note[1] = C5\n",
      "note[2] = E5\n",
      "note[3] = A4\n",
      "note[4] = C6\n",
      "note[5] = A6\n",
      "note[6] = E7\n",
      "----- Reduced Stacked Chord -----\n",
      "stack[0] = A4\n",
      "stack[1] = C5\n",
      "stack[2] = E5\n",
      "stack[3] = G5\n"
     ]
    }
   ],
   "source": [
    "print(\"----- Original Chord -----\")\n",
    "myChord.print()\n",
    "print(\"----- Reduced Stacked Chord -----\")\n",
    "myChord.printStack()"
   ]
  },
  {
   "cell_type": "markdown",
   "metadata": {},
   "source": [
    "If you want an alias just to know the internal chord notes, you can just type the chord variable name, like:"
   ]
  },
  {
   "cell_type": "code",
   "execution_count": 13,
   "metadata": {},
   "outputs": [
    {
     "data": {
      "text/plain": [
       "[G5, C5, E5, A4, C6, A6, E7]"
      ]
     },
     "execution_count": 13,
     "metadata": {},
     "output_type": "execute_result"
    }
   ],
   "source": [
    "myChord"
   ]
  },
  {
   "cell_type": "markdown",
   "metadata": {},
   "source": [
    "## Get MIDI Intervals (semitones)"
   ]
  },
  {
   "cell_type": "code",
   "execution_count": 14,
   "metadata": {},
   "outputs": [
    {
     "data": {
      "text/plain": [
       "[3, 7, 10]"
      ]
     },
     "execution_count": 14,
     "metadata": {},
     "output_type": "execute_result"
    }
   ],
   "source": [
    "myChord.getMIDIIntervals()"
   ]
  },
  {
   "cell_type": "markdown",
   "metadata": {},
   "source": [
    "## Get Interval Names (strings)"
   ]
  },
  {
   "cell_type": "code",
   "execution_count": 15,
   "metadata": {},
   "outputs": [
    {
     "data": {
      "text/plain": [
       "['3m', '5', '7']"
      ]
     },
     "execution_count": 15,
     "metadata": {},
     "output_type": "execute_result"
    }
   ],
   "source": [
    "myChord.getIntervalNames()"
   ]
  },
  {
   "cell_type": "markdown",
   "metadata": {},
   "source": [
    "## Get the chord Bass Note"
   ]
  },
  {
   "cell_type": "code",
   "execution_count": 16,
   "metadata": {},
   "outputs": [
    {
     "data": {
      "text/plain": [
       "'A4'"
      ]
     },
     "execution_count": 16,
     "metadata": {},
     "output_type": "execute_result"
    }
   ],
   "source": [
    "bassNote = myChord.getBassNote()\n",
    "bassNote.getPitch()"
   ]
  },
  {
   "cell_type": "markdown",
   "metadata": {},
   "source": [
    "## Transposed Notes"
   ]
  },
  {
   "cell_type": "markdown",
   "metadata": {},
   "source": [
    "A Clarinet Bb example: The 'sounding pitch' is 2 half steps below the 'written pitch'"
   ]
  },
  {
   "cell_type": "code",
   "execution_count": 17,
   "metadata": {},
   "outputs": [],
   "source": [
    "clarinetNote = Note(\"C4\")"
   ]
  },
  {
   "cell_type": "markdown",
   "metadata": {},
   "source": [
    "To set this note as a 'transposed instrument' note, you must set the Transpose Intervals:\n",
    "* Diatonic Transpose Steps (first input argument)\n",
    "* Chromatic Transpose Steps (second input argument)\n",
    "\n",
    "In our case (Clarinet Bb), this values are -1 (which represent B) and -2 (Bb)"
   ]
  },
  {
   "cell_type": "code",
   "execution_count": 18,
   "metadata": {},
   "outputs": [
    {
     "name": "stdout",
     "output_type": "stream",
     "text": [
      "The written pitch is C4 , but the sounding pitch is Bb3\n"
     ]
    }
   ],
   "source": [
    "clarinetNote.setTransposingInterval(-1, -2)\n",
    "\n",
    "print(\"The written pitch is\", clarinetNote.getWrittenPitch(), \", but the sounding pitch is\", clarinetNote.getSoundingPitch())"
   ]
  },
  {
   "cell_type": "markdown",
   "metadata": {},
   "source": [
    "### Observations"
   ]
  },
  {
   "cell_type": "markdown",
   "metadata": {},
   "source": [
    "#### First Observation"
   ]
  },
  {
   "cell_type": "markdown",
   "metadata": {},
   "source": [
    "You can check if one one is tranposed or not using:"
   ]
  },
  {
   "cell_type": "code",
   "execution_count": 19,
   "metadata": {},
   "outputs": [
    {
     "data": {
      "text/plain": [
       "True"
      ]
     },
     "execution_count": 19,
     "metadata": {},
     "output_type": "execute_result"
    }
   ],
   "source": [
    "clarinetNote.isTransposed()"
   ]
  },
  {
   "cell_type": "markdown",
   "metadata": {},
   "source": [
    "#### Second Observation"
   ]
  },
  {
   "cell_type": "markdown",
   "metadata": {},
   "source": [
    "To get a note `pitch()` or `pitchClass()` you have 3 methods availabel:\n",
    "\n",
    "* `getWrittenPitch()` is the written pitch. It is the same of the sounding pitch if the instrument is not a transposing instrument\n",
    "* `getSoundingPitch()` is the sounding pitch. It is different of the written pitch if the instrument is a transposing instrument\n",
    "* `getPitch()` is only an alias to the `getWrittenPitch()` to avoid verbose code"
   ]
  },
  {
   "cell_type": "code",
   "execution_count": 20,
   "metadata": {},
   "outputs": [
    {
     "data": {
      "text/plain": [
       "3"
      ]
     },
     "execution_count": 20,
     "metadata": {},
     "output_type": "execute_result"
    }
   ],
   "source": [
    "clarinetNote.getOctave()"
   ]
  },
  {
   "cell_type": "code",
   "execution_count": null,
   "metadata": {},
   "outputs": [],
   "source": []
  }
 ],
 "metadata": {
  "kernelspec": {
   "display_name": "Python 3",
   "language": "python",
   "name": "python3"
  },
  "language_info": {
   "codemirror_mode": {
    "name": "ipython",
    "version": 3
   },
   "file_extension": ".py",
   "mimetype": "text/x-python",
   "name": "python",
   "nbconvert_exporter": "python",
   "pygments_lexer": "ipython3",
   "version": "3.7.6"
  }
 },
 "nbformat": 4,
 "nbformat_minor": 4
}
